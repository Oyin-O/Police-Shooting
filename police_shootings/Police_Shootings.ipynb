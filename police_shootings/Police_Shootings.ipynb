{
  "nbformat": 4,
  "nbformat_minor": 0,
  "metadata": {
    "colab": {
      "name": "Police Shootings.ipynb",
      "provenance": []
    },
    "kernelspec": {
      "name": "python3",
      "display_name": "Python 3"
    }
  },
  "cells": [
    {
      "cell_type": "markdown",
      "metadata": {
        "id": "_PrMf9UG1o-V"
      },
      "source": [
        "# Police Shooting in America "
      ]
    },
    {
      "cell_type": "code",
      "metadata": {
        "id": "2uAugww2eg5o"
      },
      "source": [
        "import pandas as pd\r\n",
        "import numpy as np\r\n",
        "import matplotlib.pyplot as plt\r\n",
        "import seaborn as sns \r\n",
        "%matplotlib inline "
      ],
      "execution_count": 1,
      "outputs": []
    },
    {
      "cell_type": "code",
      "metadata": {
        "id": "-yZp1WlUfSEj"
      },
      "source": [
        "import warnings\r\n",
        "warnings.filterwarnings('ignore')"
      ],
      "execution_count": 2,
      "outputs": []
    },
    {
      "cell_type": "code",
      "metadata": {
        "id": "67paYJDQfXUK"
      },
      "source": [
        "df = pd.read_csv('shootings.csv')"
      ],
      "execution_count": 3,
      "outputs": []
    },
    {
      "cell_type": "code",
      "metadata": {
        "colab": {
          "base_uri": "https://localhost:8080/",
          "height": 289
        },
        "id": "04Bc9YEpfhrx",
        "outputId": "79478be2-f620-4c67-99d3-b462ef28523d"
      },
      "source": [
        "df.head()"
      ],
      "execution_count": 4,
      "outputs": [
        {
          "output_type": "execute_result",
          "data": {
            "text/html": [
              "<div>\n",
              "<style scoped>\n",
              "    .dataframe tbody tr th:only-of-type {\n",
              "        vertical-align: middle;\n",
              "    }\n",
              "\n",
              "    .dataframe tbody tr th {\n",
              "        vertical-align: top;\n",
              "    }\n",
              "\n",
              "    .dataframe thead th {\n",
              "        text-align: right;\n",
              "    }\n",
              "</style>\n",
              "<table border=\"1\" class=\"dataframe\">\n",
              "  <thead>\n",
              "    <tr style=\"text-align: right;\">\n",
              "      <th></th>\n",
              "      <th>id</th>\n",
              "      <th>name</th>\n",
              "      <th>date</th>\n",
              "      <th>manner_of_death</th>\n",
              "      <th>armed</th>\n",
              "      <th>age</th>\n",
              "      <th>gender</th>\n",
              "      <th>race</th>\n",
              "      <th>city</th>\n",
              "      <th>state</th>\n",
              "      <th>signs_of_mental_illness</th>\n",
              "      <th>threat_level</th>\n",
              "      <th>flee</th>\n",
              "      <th>body_camera</th>\n",
              "      <th>arms_category</th>\n",
              "    </tr>\n",
              "  </thead>\n",
              "  <tbody>\n",
              "    <tr>\n",
              "      <th>0</th>\n",
              "      <td>3</td>\n",
              "      <td>Tim Elliot</td>\n",
              "      <td>2015-01-02</td>\n",
              "      <td>shot</td>\n",
              "      <td>gun</td>\n",
              "      <td>53.0</td>\n",
              "      <td>M</td>\n",
              "      <td>Asian</td>\n",
              "      <td>Shelton</td>\n",
              "      <td>WA</td>\n",
              "      <td>True</td>\n",
              "      <td>attack</td>\n",
              "      <td>Not fleeing</td>\n",
              "      <td>False</td>\n",
              "      <td>Guns</td>\n",
              "    </tr>\n",
              "    <tr>\n",
              "      <th>1</th>\n",
              "      <td>4</td>\n",
              "      <td>Lewis Lee Lembke</td>\n",
              "      <td>2015-01-02</td>\n",
              "      <td>shot</td>\n",
              "      <td>gun</td>\n",
              "      <td>47.0</td>\n",
              "      <td>M</td>\n",
              "      <td>White</td>\n",
              "      <td>Aloha</td>\n",
              "      <td>OR</td>\n",
              "      <td>False</td>\n",
              "      <td>attack</td>\n",
              "      <td>Not fleeing</td>\n",
              "      <td>False</td>\n",
              "      <td>Guns</td>\n",
              "    </tr>\n",
              "    <tr>\n",
              "      <th>2</th>\n",
              "      <td>5</td>\n",
              "      <td>John Paul Quintero</td>\n",
              "      <td>2015-01-03</td>\n",
              "      <td>shot and Tasered</td>\n",
              "      <td>unarmed</td>\n",
              "      <td>23.0</td>\n",
              "      <td>M</td>\n",
              "      <td>Hispanic</td>\n",
              "      <td>Wichita</td>\n",
              "      <td>KS</td>\n",
              "      <td>False</td>\n",
              "      <td>other</td>\n",
              "      <td>Not fleeing</td>\n",
              "      <td>False</td>\n",
              "      <td>Unarmed</td>\n",
              "    </tr>\n",
              "    <tr>\n",
              "      <th>3</th>\n",
              "      <td>8</td>\n",
              "      <td>Matthew Hoffman</td>\n",
              "      <td>2015-01-04</td>\n",
              "      <td>shot</td>\n",
              "      <td>toy weapon</td>\n",
              "      <td>32.0</td>\n",
              "      <td>M</td>\n",
              "      <td>White</td>\n",
              "      <td>San Francisco</td>\n",
              "      <td>CA</td>\n",
              "      <td>True</td>\n",
              "      <td>attack</td>\n",
              "      <td>Not fleeing</td>\n",
              "      <td>False</td>\n",
              "      <td>Other unusual objects</td>\n",
              "    </tr>\n",
              "    <tr>\n",
              "      <th>4</th>\n",
              "      <td>9</td>\n",
              "      <td>Michael Rodriguez</td>\n",
              "      <td>2015-01-04</td>\n",
              "      <td>shot</td>\n",
              "      <td>nail gun</td>\n",
              "      <td>39.0</td>\n",
              "      <td>M</td>\n",
              "      <td>Hispanic</td>\n",
              "      <td>Evans</td>\n",
              "      <td>CO</td>\n",
              "      <td>False</td>\n",
              "      <td>attack</td>\n",
              "      <td>Not fleeing</td>\n",
              "      <td>False</td>\n",
              "      <td>Piercing objects</td>\n",
              "    </tr>\n",
              "  </tbody>\n",
              "</table>\n",
              "</div>"
            ],
            "text/plain": [
              "   id                name  ... body_camera          arms_category\n",
              "0   3          Tim Elliot  ...       False                   Guns\n",
              "1   4    Lewis Lee Lembke  ...       False                   Guns\n",
              "2   5  John Paul Quintero  ...       False                Unarmed\n",
              "3   8     Matthew Hoffman  ...       False  Other unusual objects\n",
              "4   9   Michael Rodriguez  ...       False       Piercing objects\n",
              "\n",
              "[5 rows x 15 columns]"
            ]
          },
          "metadata": {
            "tags": []
          },
          "execution_count": 4
        }
      ]
    },
    {
      "cell_type": "code",
      "metadata": {
        "id": "9c4daZ4tgelI"
      },
      "source": [
        "df.drop([\"id\", \"name\"], axis = 1, inplace = True)"
      ],
      "execution_count": 5,
      "outputs": []
    },
    {
      "cell_type": "markdown",
      "metadata": {
        "id": "SkkcuaGqhbI-"
      },
      "source": [
        "The id and name column are not needed and won't ive us extra information about the dataset. Hence I dropped it. "
      ]
    },
    {
      "cell_type": "code",
      "metadata": {
        "colab": {
          "base_uri": "https://localhost:8080/"
        },
        "id": "jDF-onv2fjX2",
        "outputId": "225a7ed8-bbb1-4398-dc49-a1d9943f92a6"
      },
      "source": [
        "df.info()"
      ],
      "execution_count": 6,
      "outputs": [
        {
          "output_type": "stream",
          "text": [
            "<class 'pandas.core.frame.DataFrame'>\n",
            "RangeIndex: 4895 entries, 0 to 4894\n",
            "Data columns (total 13 columns):\n",
            " #   Column                   Non-Null Count  Dtype  \n",
            "---  ------                   --------------  -----  \n",
            " 0   date                     4895 non-null   object \n",
            " 1   manner_of_death          4895 non-null   object \n",
            " 2   armed                    4895 non-null   object \n",
            " 3   age                      4895 non-null   float64\n",
            " 4   gender                   4895 non-null   object \n",
            " 5   race                     4895 non-null   object \n",
            " 6   city                     4895 non-null   object \n",
            " 7   state                    4895 non-null   object \n",
            " 8   signs_of_mental_illness  4895 non-null   bool   \n",
            " 9   threat_level             4895 non-null   object \n",
            " 10  flee                     4895 non-null   object \n",
            " 11  body_camera              4895 non-null   bool   \n",
            " 12  arms_category            4895 non-null   object \n",
            "dtypes: bool(2), float64(1), object(10)\n",
            "memory usage: 430.3+ KB\n"
          ],
          "name": "stdout"
        }
      ]
    },
    {
      "cell_type": "code",
      "metadata": {
        "colab": {
          "base_uri": "https://localhost:8080/",
          "height": 386
        },
        "id": "Zp2I9An6fvQD",
        "outputId": "93ae6403-b65e-4d73-bb25-1b86852465dd"
      },
      "source": [
        "df.describe(include= 'all')"
      ],
      "execution_count": 7,
      "outputs": [
        {
          "output_type": "execute_result",
          "data": {
            "text/html": [
              "<div>\n",
              "<style scoped>\n",
              "    .dataframe tbody tr th:only-of-type {\n",
              "        vertical-align: middle;\n",
              "    }\n",
              "\n",
              "    .dataframe tbody tr th {\n",
              "        vertical-align: top;\n",
              "    }\n",
              "\n",
              "    .dataframe thead th {\n",
              "        text-align: right;\n",
              "    }\n",
              "</style>\n",
              "<table border=\"1\" class=\"dataframe\">\n",
              "  <thead>\n",
              "    <tr style=\"text-align: right;\">\n",
              "      <th></th>\n",
              "      <th>date</th>\n",
              "      <th>manner_of_death</th>\n",
              "      <th>armed</th>\n",
              "      <th>age</th>\n",
              "      <th>gender</th>\n",
              "      <th>race</th>\n",
              "      <th>city</th>\n",
              "      <th>state</th>\n",
              "      <th>signs_of_mental_illness</th>\n",
              "      <th>threat_level</th>\n",
              "      <th>flee</th>\n",
              "      <th>body_camera</th>\n",
              "      <th>arms_category</th>\n",
              "    </tr>\n",
              "  </thead>\n",
              "  <tbody>\n",
              "    <tr>\n",
              "      <th>count</th>\n",
              "      <td>4895</td>\n",
              "      <td>4895</td>\n",
              "      <td>4895</td>\n",
              "      <td>4895.000000</td>\n",
              "      <td>4895</td>\n",
              "      <td>4895</td>\n",
              "      <td>4895</td>\n",
              "      <td>4895</td>\n",
              "      <td>4895</td>\n",
              "      <td>4895</td>\n",
              "      <td>4895</td>\n",
              "      <td>4895</td>\n",
              "      <td>4895</td>\n",
              "    </tr>\n",
              "    <tr>\n",
              "      <th>unique</th>\n",
              "      <td>1792</td>\n",
              "      <td>2</td>\n",
              "      <td>89</td>\n",
              "      <td>NaN</td>\n",
              "      <td>2</td>\n",
              "      <td>6</td>\n",
              "      <td>2288</td>\n",
              "      <td>51</td>\n",
              "      <td>2</td>\n",
              "      <td>3</td>\n",
              "      <td>4</td>\n",
              "      <td>2</td>\n",
              "      <td>12</td>\n",
              "    </tr>\n",
              "    <tr>\n",
              "      <th>top</th>\n",
              "      <td>2018-01-06</td>\n",
              "      <td>shot</td>\n",
              "      <td>gun</td>\n",
              "      <td>NaN</td>\n",
              "      <td>M</td>\n",
              "      <td>White</td>\n",
              "      <td>Los Angeles</td>\n",
              "      <td>CA</td>\n",
              "      <td>False</td>\n",
              "      <td>attack</td>\n",
              "      <td>Not fleeing</td>\n",
              "      <td>False</td>\n",
              "      <td>Guns</td>\n",
              "    </tr>\n",
              "    <tr>\n",
              "      <th>freq</th>\n",
              "      <td>9</td>\n",
              "      <td>4647</td>\n",
              "      <td>2755</td>\n",
              "      <td>NaN</td>\n",
              "      <td>4673</td>\n",
              "      <td>2476</td>\n",
              "      <td>78</td>\n",
              "      <td>701</td>\n",
              "      <td>3792</td>\n",
              "      <td>3160</td>\n",
              "      <td>3073</td>\n",
              "      <td>4317</td>\n",
              "      <td>2764</td>\n",
              "    </tr>\n",
              "    <tr>\n",
              "      <th>mean</th>\n",
              "      <td>NaN</td>\n",
              "      <td>NaN</td>\n",
              "      <td>NaN</td>\n",
              "      <td>36.549750</td>\n",
              "      <td>NaN</td>\n",
              "      <td>NaN</td>\n",
              "      <td>NaN</td>\n",
              "      <td>NaN</td>\n",
              "      <td>NaN</td>\n",
              "      <td>NaN</td>\n",
              "      <td>NaN</td>\n",
              "      <td>NaN</td>\n",
              "      <td>NaN</td>\n",
              "    </tr>\n",
              "    <tr>\n",
              "      <th>std</th>\n",
              "      <td>NaN</td>\n",
              "      <td>NaN</td>\n",
              "      <td>NaN</td>\n",
              "      <td>12.694348</td>\n",
              "      <td>NaN</td>\n",
              "      <td>NaN</td>\n",
              "      <td>NaN</td>\n",
              "      <td>NaN</td>\n",
              "      <td>NaN</td>\n",
              "      <td>NaN</td>\n",
              "      <td>NaN</td>\n",
              "      <td>NaN</td>\n",
              "      <td>NaN</td>\n",
              "    </tr>\n",
              "    <tr>\n",
              "      <th>min</th>\n",
              "      <td>NaN</td>\n",
              "      <td>NaN</td>\n",
              "      <td>NaN</td>\n",
              "      <td>6.000000</td>\n",
              "      <td>NaN</td>\n",
              "      <td>NaN</td>\n",
              "      <td>NaN</td>\n",
              "      <td>NaN</td>\n",
              "      <td>NaN</td>\n",
              "      <td>NaN</td>\n",
              "      <td>NaN</td>\n",
              "      <td>NaN</td>\n",
              "      <td>NaN</td>\n",
              "    </tr>\n",
              "    <tr>\n",
              "      <th>25%</th>\n",
              "      <td>NaN</td>\n",
              "      <td>NaN</td>\n",
              "      <td>NaN</td>\n",
              "      <td>27.000000</td>\n",
              "      <td>NaN</td>\n",
              "      <td>NaN</td>\n",
              "      <td>NaN</td>\n",
              "      <td>NaN</td>\n",
              "      <td>NaN</td>\n",
              "      <td>NaN</td>\n",
              "      <td>NaN</td>\n",
              "      <td>NaN</td>\n",
              "      <td>NaN</td>\n",
              "    </tr>\n",
              "    <tr>\n",
              "      <th>50%</th>\n",
              "      <td>NaN</td>\n",
              "      <td>NaN</td>\n",
              "      <td>NaN</td>\n",
              "      <td>35.000000</td>\n",
              "      <td>NaN</td>\n",
              "      <td>NaN</td>\n",
              "      <td>NaN</td>\n",
              "      <td>NaN</td>\n",
              "      <td>NaN</td>\n",
              "      <td>NaN</td>\n",
              "      <td>NaN</td>\n",
              "      <td>NaN</td>\n",
              "      <td>NaN</td>\n",
              "    </tr>\n",
              "    <tr>\n",
              "      <th>75%</th>\n",
              "      <td>NaN</td>\n",
              "      <td>NaN</td>\n",
              "      <td>NaN</td>\n",
              "      <td>45.000000</td>\n",
              "      <td>NaN</td>\n",
              "      <td>NaN</td>\n",
              "      <td>NaN</td>\n",
              "      <td>NaN</td>\n",
              "      <td>NaN</td>\n",
              "      <td>NaN</td>\n",
              "      <td>NaN</td>\n",
              "      <td>NaN</td>\n",
              "      <td>NaN</td>\n",
              "    </tr>\n",
              "    <tr>\n",
              "      <th>max</th>\n",
              "      <td>NaN</td>\n",
              "      <td>NaN</td>\n",
              "      <td>NaN</td>\n",
              "      <td>91.000000</td>\n",
              "      <td>NaN</td>\n",
              "      <td>NaN</td>\n",
              "      <td>NaN</td>\n",
              "      <td>NaN</td>\n",
              "      <td>NaN</td>\n",
              "      <td>NaN</td>\n",
              "      <td>NaN</td>\n",
              "      <td>NaN</td>\n",
              "      <td>NaN</td>\n",
              "    </tr>\n",
              "  </tbody>\n",
              "</table>\n",
              "</div>"
            ],
            "text/plain": [
              "              date manner_of_death armed  ...         flee body_camera arms_category\n",
              "count         4895            4895  4895  ...         4895        4895          4895\n",
              "unique        1792               2    89  ...            4           2            12\n",
              "top     2018-01-06            shot   gun  ...  Not fleeing       False          Guns\n",
              "freq             9            4647  2755  ...         3073        4317          2764\n",
              "mean           NaN             NaN   NaN  ...          NaN         NaN           NaN\n",
              "std            NaN             NaN   NaN  ...          NaN         NaN           NaN\n",
              "min            NaN             NaN   NaN  ...          NaN         NaN           NaN\n",
              "25%            NaN             NaN   NaN  ...          NaN         NaN           NaN\n",
              "50%            NaN             NaN   NaN  ...          NaN         NaN           NaN\n",
              "75%            NaN             NaN   NaN  ...          NaN         NaN           NaN\n",
              "max            NaN             NaN   NaN  ...          NaN         NaN           NaN\n",
              "\n",
              "[11 rows x 13 columns]"
            ]
          },
          "metadata": {
            "tags": []
          },
          "execution_count": 7
        }
      ]
    },
    {
      "cell_type": "code",
      "metadata": {
        "id": "X6DbeXBlfwo6",
        "colab": {
          "base_uri": "https://localhost:8080/",
          "height": 416
        },
        "outputId": "34d8d05a-653b-4ad5-b45e-b7c252401c40"
      },
      "source": [
        "df"
      ],
      "execution_count": 8,
      "outputs": [
        {
          "output_type": "execute_result",
          "data": {
            "text/html": [
              "<div>\n",
              "<style scoped>\n",
              "    .dataframe tbody tr th:only-of-type {\n",
              "        vertical-align: middle;\n",
              "    }\n",
              "\n",
              "    .dataframe tbody tr th {\n",
              "        vertical-align: top;\n",
              "    }\n",
              "\n",
              "    .dataframe thead th {\n",
              "        text-align: right;\n",
              "    }\n",
              "</style>\n",
              "<table border=\"1\" class=\"dataframe\">\n",
              "  <thead>\n",
              "    <tr style=\"text-align: right;\">\n",
              "      <th></th>\n",
              "      <th>date</th>\n",
              "      <th>manner_of_death</th>\n",
              "      <th>armed</th>\n",
              "      <th>age</th>\n",
              "      <th>gender</th>\n",
              "      <th>race</th>\n",
              "      <th>city</th>\n",
              "      <th>state</th>\n",
              "      <th>signs_of_mental_illness</th>\n",
              "      <th>threat_level</th>\n",
              "      <th>flee</th>\n",
              "      <th>body_camera</th>\n",
              "      <th>arms_category</th>\n",
              "    </tr>\n",
              "  </thead>\n",
              "  <tbody>\n",
              "    <tr>\n",
              "      <th>0</th>\n",
              "      <td>2015-01-02</td>\n",
              "      <td>shot</td>\n",
              "      <td>gun</td>\n",
              "      <td>53.0</td>\n",
              "      <td>M</td>\n",
              "      <td>Asian</td>\n",
              "      <td>Shelton</td>\n",
              "      <td>WA</td>\n",
              "      <td>True</td>\n",
              "      <td>attack</td>\n",
              "      <td>Not fleeing</td>\n",
              "      <td>False</td>\n",
              "      <td>Guns</td>\n",
              "    </tr>\n",
              "    <tr>\n",
              "      <th>1</th>\n",
              "      <td>2015-01-02</td>\n",
              "      <td>shot</td>\n",
              "      <td>gun</td>\n",
              "      <td>47.0</td>\n",
              "      <td>M</td>\n",
              "      <td>White</td>\n",
              "      <td>Aloha</td>\n",
              "      <td>OR</td>\n",
              "      <td>False</td>\n",
              "      <td>attack</td>\n",
              "      <td>Not fleeing</td>\n",
              "      <td>False</td>\n",
              "      <td>Guns</td>\n",
              "    </tr>\n",
              "    <tr>\n",
              "      <th>2</th>\n",
              "      <td>2015-01-03</td>\n",
              "      <td>shot and Tasered</td>\n",
              "      <td>unarmed</td>\n",
              "      <td>23.0</td>\n",
              "      <td>M</td>\n",
              "      <td>Hispanic</td>\n",
              "      <td>Wichita</td>\n",
              "      <td>KS</td>\n",
              "      <td>False</td>\n",
              "      <td>other</td>\n",
              "      <td>Not fleeing</td>\n",
              "      <td>False</td>\n",
              "      <td>Unarmed</td>\n",
              "    </tr>\n",
              "    <tr>\n",
              "      <th>3</th>\n",
              "      <td>2015-01-04</td>\n",
              "      <td>shot</td>\n",
              "      <td>toy weapon</td>\n",
              "      <td>32.0</td>\n",
              "      <td>M</td>\n",
              "      <td>White</td>\n",
              "      <td>San Francisco</td>\n",
              "      <td>CA</td>\n",
              "      <td>True</td>\n",
              "      <td>attack</td>\n",
              "      <td>Not fleeing</td>\n",
              "      <td>False</td>\n",
              "      <td>Other unusual objects</td>\n",
              "    </tr>\n",
              "    <tr>\n",
              "      <th>4</th>\n",
              "      <td>2015-01-04</td>\n",
              "      <td>shot</td>\n",
              "      <td>nail gun</td>\n",
              "      <td>39.0</td>\n",
              "      <td>M</td>\n",
              "      <td>Hispanic</td>\n",
              "      <td>Evans</td>\n",
              "      <td>CO</td>\n",
              "      <td>False</td>\n",
              "      <td>attack</td>\n",
              "      <td>Not fleeing</td>\n",
              "      <td>False</td>\n",
              "      <td>Piercing objects</td>\n",
              "    </tr>\n",
              "    <tr>\n",
              "      <th>...</th>\n",
              "      <td>...</td>\n",
              "      <td>...</td>\n",
              "      <td>...</td>\n",
              "      <td>...</td>\n",
              "      <td>...</td>\n",
              "      <td>...</td>\n",
              "      <td>...</td>\n",
              "      <td>...</td>\n",
              "      <td>...</td>\n",
              "      <td>...</td>\n",
              "      <td>...</td>\n",
              "      <td>...</td>\n",
              "      <td>...</td>\n",
              "    </tr>\n",
              "    <tr>\n",
              "      <th>4890</th>\n",
              "      <td>2020-06-12</td>\n",
              "      <td>shot</td>\n",
              "      <td>Taser</td>\n",
              "      <td>27.0</td>\n",
              "      <td>M</td>\n",
              "      <td>Black</td>\n",
              "      <td>Atlanta</td>\n",
              "      <td>GA</td>\n",
              "      <td>False</td>\n",
              "      <td>attack</td>\n",
              "      <td>Foot</td>\n",
              "      <td>True</td>\n",
              "      <td>Electrical devices</td>\n",
              "    </tr>\n",
              "    <tr>\n",
              "      <th>4891</th>\n",
              "      <td>2020-06-12</td>\n",
              "      <td>shot</td>\n",
              "      <td>gun</td>\n",
              "      <td>23.0</td>\n",
              "      <td>M</td>\n",
              "      <td>Black</td>\n",
              "      <td>Crown Point</td>\n",
              "      <td>IN</td>\n",
              "      <td>False</td>\n",
              "      <td>attack</td>\n",
              "      <td>Car</td>\n",
              "      <td>False</td>\n",
              "      <td>Guns</td>\n",
              "    </tr>\n",
              "    <tr>\n",
              "      <th>4892</th>\n",
              "      <td>2020-06-13</td>\n",
              "      <td>shot</td>\n",
              "      <td>unarmed</td>\n",
              "      <td>25.0</td>\n",
              "      <td>F</td>\n",
              "      <td>White</td>\n",
              "      <td>Sedalia</td>\n",
              "      <td>MO</td>\n",
              "      <td>False</td>\n",
              "      <td>other</td>\n",
              "      <td>Not fleeing</td>\n",
              "      <td>False</td>\n",
              "      <td>Unarmed</td>\n",
              "    </tr>\n",
              "    <tr>\n",
              "      <th>4893</th>\n",
              "      <td>2020-06-13</td>\n",
              "      <td>shot</td>\n",
              "      <td>gun</td>\n",
              "      <td>22.0</td>\n",
              "      <td>M</td>\n",
              "      <td>White</td>\n",
              "      <td>Kansas City</td>\n",
              "      <td>MO</td>\n",
              "      <td>False</td>\n",
              "      <td>other</td>\n",
              "      <td>Other</td>\n",
              "      <td>False</td>\n",
              "      <td>Guns</td>\n",
              "    </tr>\n",
              "    <tr>\n",
              "      <th>4894</th>\n",
              "      <td>2020-06-15</td>\n",
              "      <td>shot</td>\n",
              "      <td>gun</td>\n",
              "      <td>31.0</td>\n",
              "      <td>M</td>\n",
              "      <td>White</td>\n",
              "      <td>Lawrence</td>\n",
              "      <td>KS</td>\n",
              "      <td>False</td>\n",
              "      <td>attack</td>\n",
              "      <td>Car</td>\n",
              "      <td>False</td>\n",
              "      <td>Guns</td>\n",
              "    </tr>\n",
              "  </tbody>\n",
              "</table>\n",
              "<p>4895 rows × 13 columns</p>\n",
              "</div>"
            ],
            "text/plain": [
              "            date   manner_of_death  ... body_camera          arms_category\n",
              "0     2015-01-02              shot  ...       False                   Guns\n",
              "1     2015-01-02              shot  ...       False                   Guns\n",
              "2     2015-01-03  shot and Tasered  ...       False                Unarmed\n",
              "3     2015-01-04              shot  ...       False  Other unusual objects\n",
              "4     2015-01-04              shot  ...       False       Piercing objects\n",
              "...          ...               ...  ...         ...                    ...\n",
              "4890  2020-06-12              shot  ...        True     Electrical devices\n",
              "4891  2020-06-12              shot  ...       False                   Guns\n",
              "4892  2020-06-13              shot  ...       False                Unarmed\n",
              "4893  2020-06-13              shot  ...       False                   Guns\n",
              "4894  2020-06-15              shot  ...       False                   Guns\n",
              "\n",
              "[4895 rows x 13 columns]"
            ]
          },
          "metadata": {
            "tags": []
          },
          "execution_count": 8
        }
      ]
    },
    {
      "cell_type": "markdown",
      "metadata": {
        "id": "XNu2arxAgkUS"
      },
      "source": [
        "## Categorical Variables"
      ]
    },
    {
      "cell_type": "code",
      "metadata": {
        "colab": {
          "base_uri": "https://localhost:8080/",
          "height": 297
        },
        "id": "m1eoFE9ogaaW",
        "outputId": "67edd9cb-3ea2-4df2-b81b-59654a929994"
      },
      "source": [
        "sns.countplot(x = \"manner_of_death\", data = df)"
      ],
      "execution_count": 9,
      "outputs": [
        {
          "output_type": "execute_result",
          "data": {
            "text/plain": [
              "<matplotlib.axes._subplots.AxesSubplot at 0x7f6d70a6e4a8>"
            ]
          },
          "metadata": {
            "tags": []
          },
          "execution_count": 9
        },
        {
          "output_type": "display_data",
          "data": {
            "image/png": "[encoded data removed]",
            "text/plain": [
              "<Figure size 432x288 with 1 Axes>"
            ]
          },
          "metadata": {
            "tags": [],
            "needs_background": "light"
          }
        }
      ]
    },
    {
      "cell_type": "code",
      "metadata": {
        "colab": {
          "base_uri": "https://localhost:8080/",
          "height": 296
        },
        "id": "O_pGAJJwgzm5",
        "outputId": "e34f82ac-c596-465a-a142-8b70ea66afe8"
      },
      "source": [
        "sns.countplot(x = \"gender\", data = df)"
      ],
      "execution_count": 10,
      "outputs": [
        {
          "output_type": "execute_result",
          "data": {
            "text/plain": [
              "<matplotlib.axes._subplots.AxesSubplot at 0x7f6d70213208>"
            ]
          },
          "metadata": {
            "tags": []
          },
          "execution_count": 10
        },
        {
          "output_type": "display_data",
          "data": {
            "image/png": "[encoded data removed]",
            "text/plain": [
              "<Figure size 432x288 with 1 Axes>"
            ]
          },
          "metadata": {
            "tags": [],
            "needs_background": "light"
          }
        }
      ]
    },
    {
      "cell_type": "code",
      "metadata": {
        "colab": {
          "base_uri": "https://localhost:8080/"
        },
        "id": "Jbole98ozXSX",
        "outputId": "50b3d3ac-f959-4ff6-e1fd-764081193b80"
      },
      "source": [
        "a = df.gender.value_counts(normalize= True)\r\n",
        "a"
      ],
      "execution_count": 11,
      "outputs": [
        {
          "output_type": "execute_result",
          "data": {
            "text/plain": [
              "M    0.954648\n",
              "F    0.045352\n",
              "Name: gender, dtype: float64"
            ]
          },
          "metadata": {
            "tags": []
          },
          "execution_count": 11
        }
      ]
    },
    {
      "cell_type": "code",
      "metadata": {
        "colab": {
          "base_uri": "https://localhost:8080/",
          "height": 269
        },
        "id": "NZER89BShZab",
        "outputId": "0efafe5c-2d34-4d42-bc79-b16198d7ee80"
      },
      "source": [
        "plt.bar(a.index, a.values)\r\n",
        "plt.show()"
      ],
      "execution_count": 12,
      "outputs": [
        {
          "output_type": "display_data",
          "data": {
            "image/png": "[encoded data removed]",
            "text/plain": [
              "<Figure size 432x288 with 1 Axes>"
            ]
          },
          "metadata": {
            "tags": [],
            "needs_background": "light"
          }
        }
      ]
    },
    {
      "cell_type": "markdown",
      "metadata": {
        "id": "F2in-gyiz7GR"
      },
      "source": [
        "About 95.5% males are being killed by the police and 4.5% female. Which implies that males are the main targets"
      ]
    },
    {
      "cell_type": "code",
      "metadata": {
        "colab": {
          "base_uri": "https://localhost:8080/",
          "height": 296
        },
        "id": "-Se4yR-Iz6sO",
        "outputId": "5e852308-1f29-4cc5-a1b9-6b23f6d16e2f"
      },
      "source": [
        "sns.countplot(x = \"race\", data = df)"
      ],
      "execution_count": 13,
      "outputs": [
        {
          "output_type": "execute_result",
          "data": {
            "text/plain": [
              "<matplotlib.axes._subplots.AxesSubplot at 0x7f6d6fcf79b0>"
            ]
          },
          "metadata": {
            "tags": []
          },
          "execution_count": 13
        },
        {
          "output_type": "display_data",
          "data": {
            "image/png": "[encoded data removed]",
            "text/plain": [
              "<Figure size 432x288 with 1 Axes>"
            ]
          },
          "metadata": {
            "tags": [],
            "needs_background": "light"
          }
        }
      ]
    },
    {
      "cell_type": "markdown",
      "metadata": {
        "id": "KFWYXMAv0iPy"
      },
      "source": [
        "More "
      ]
    },
    {
      "cell_type": "code",
      "metadata": {
        "colab": {
          "base_uri": "https://localhost:8080/",
          "height": 621
        },
        "id": "uKJgDLIhkML_",
        "outputId": "8a4dea38-4841-46f2-a815-5bf6f45efcbe"
      },
      "source": [
        "# An \"interface\" to matplotlib.axes.Axes.hist() method\r\n",
        "plt.figure(figsize=(10,10))\r\n",
        "n, bins, patches = plt.hist(x=df['age'], bins='auto', color='#0504aa',\r\n",
        "                            alpha=0.7, rwidth=0.85)\r\n",
        "plt.grid(axis='y', alpha=0.75)\r\n",
        "plt.xlabel('Age')\r\n",
        "plt.ylabel('Frequency')\r\n",
        "plt.title('Age Distribution')\r\n",
        "maxfreq = n.max()"
      ],
      "execution_count": 17,
      "outputs": [
        {
          "output_type": "display_data",
          "data": {
            "image/png": "[encoded data removed]",
            "text/plain": [
              "<Figure size 720x720 with 1 Axes>"
            ]
          },
          "metadata": {
            "tags": [],
            "needs_background": "light"
          }
        }
      ]
    },
    {
      "cell_type": "markdown",
      "metadata": {
        "id": "I40GpiaNlmS0"
      },
      "source": [
        "A large percentage of the victims are between the age of 20 - 40 year old. "
      ]
    },
    {
      "cell_type": "code",
      "metadata": {
        "colab": {
          "base_uri": "https://localhost:8080/",
          "height": 233
        },
        "id": "Mqiv8JwAllvX",
        "outputId": "51797b3f-1718-4dd5-e738-c764e0a948c8"
      },
      "source": [
        "race = df.race.value_counts(normalize= True)*100\r\n",
        "pd.DataFrame(race)"
      ],
      "execution_count": 24,
      "outputs": [
        {
          "output_type": "execute_result",
          "data": {
            "text/html": [
              "<div>\n",
              "<style scoped>\n",
              "    .dataframe tbody tr th:only-of-type {\n",
              "        vertical-align: middle;\n",
              "    }\n",
              "\n",
              "    .dataframe tbody tr th {\n",
              "        vertical-align: top;\n",
              "    }\n",
              "\n",
              "    .dataframe thead th {\n",
              "        text-align: right;\n",
              "    }\n",
              "</style>\n",
              "<table border=\"1\" class=\"dataframe\">\n",
              "  <thead>\n",
              "    <tr style=\"text-align: right;\">\n",
              "      <th></th>\n",
              "      <th>race</th>\n",
              "    </tr>\n",
              "  </thead>\n",
              "  <tbody>\n",
              "    <tr>\n",
              "      <th>White</th>\n",
              "      <td>50.582227</td>\n",
              "    </tr>\n",
              "    <tr>\n",
              "      <th>Black</th>\n",
              "      <td>26.516854</td>\n",
              "    </tr>\n",
              "    <tr>\n",
              "      <th>Hispanic</th>\n",
              "      <td>18.426966</td>\n",
              "    </tr>\n",
              "    <tr>\n",
              "      <th>Asian</th>\n",
              "      <td>1.899898</td>\n",
              "    </tr>\n",
              "    <tr>\n",
              "      <th>Native</th>\n",
              "      <td>1.593463</td>\n",
              "    </tr>\n",
              "    <tr>\n",
              "      <th>Other</th>\n",
              "      <td>0.980592</td>\n",
              "    </tr>\n",
              "  </tbody>\n",
              "</table>\n",
              "</div>"
            ],
            "text/plain": [
              "               race\n",
              "White     50.582227\n",
              "Black     26.516854\n",
              "Hispanic  18.426966\n",
              "Asian      1.899898\n",
              "Native     1.593463\n",
              "Other      0.980592"
            ]
          },
          "metadata": {
            "tags": []
          },
          "execution_count": 24
        }
      ]
    },
    {
      "cell_type": "markdown",
      "metadata": {
        "id": "YQl-gKVw1Dvs"
      },
      "source": [
        "From the analysis above, 26% of Black Americans were victims of Police shootings. However, lacks make up  about 13.4% of the population in a visualiztion on Tableau we observed how blacks been killed were more than the percentage of blacks present in America. \r\n",
        "\r\n",
        "---\r\n",
        "\r\n"
      ]
    },
    {
      "cell_type": "markdown",
      "metadata": {
        "id": "ISfKpM8V5Rjn"
      },
      "source": [
        "![race.PNG](data:image/png;base64,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)"
      ]
    },
    {
      "cell_type": "markdown",
      "metadata": {
        "id": "lDI8S3mw5qJv"
      },
      "source": [
        "The figure above shows that a larger percentage of blacks are being killed compared to other races"
      ]
    },
    {
      "cell_type": "markdown",
      "metadata": {
        "id": "9iDj0NLg1xJ2"
      },
      "source": [
        "I further explored the visualization on [Tableau]( https://public.tableau.com/profile/oluwatomi#!/vizhome/policeshootingworkinprogress/Race) and observed that blacks were present in about only 26% of the total cities and were the most killed in Majority of those cities. "
      ]
    },
    {
      "cell_type": "code",
      "metadata": {
        "id": "cNujukV5AHMS"
      },
      "source": [
        ""
      ],
      "execution_count": null,
      "outputs": []
    }
  ]
}